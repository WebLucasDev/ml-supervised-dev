{
 "cells": [
  {
   "cell_type": "markdown",
   "id": "3bee2da6",
   "metadata": {},
   "source": [
    "### Atividade Busca Semântica\n",
    "\n",
    "Nesta atividade você deve aplicar os conhecimentos sobre word embeddings e tokenização para criar um mecanismos de busca semântica. Será disponibilizado um conjunto de dados que possui perguntas médicas, em inglês. Esse conjunto de dados possui as perguntas e também as respostas.\n",
    "\n",
    "Você deve gerar os vetores das perguntas do conjunto de dados, e permitir que o \"usuário\" envie a sua pergunta. Você também deve gerar o vetor da pergunta do usuário e com isso buscar a resposta ideal para o usuário. **A resposta ideal é aquela onde o vetor da pergunta do usuário é mais similar ao vetor da pergunta do conjunto de dados** Consulte o notebook \"nlp2.ipynb\" para verificar como realizamos esse processo\n",
    "\n",
    "Portanto, no seu script deve ser possível escrever um texto \"pergunta\" e deve ser retornado a resposta adequada, isto é, a resposta associada a pergunta mais similar no conjunto de dados.\n",
    "\n",
    "Para isso utilize o pandas e os packages do huggingface"
   ]
  },
  {
   "cell_type": "code",
   "execution_count": 1,
   "id": "846ed2df",
   "metadata": {},
   "outputs": [
    {
     "name": "stderr",
     "output_type": "stream",
     "text": [
      "/usr/local/python/3.12.1/lib/python3.12/site-packages/tqdm/auto.py:21: TqdmWarning: IProgress not found. Please update jupyter and ipywidgets. See https://ipywidgets.readthedocs.io/en/stable/user_install.html\n",
      "  from .autonotebook import tqdm as notebook_tqdm\n"
     ]
    }
   ],
   "source": [
    "import pandas as pd\n",
    "from transformers import AutoTokenizer, AutoModel\n",
    "import torch\n",
    "import torch.nn.functional as F\n",
    "from torch import Tensor\n",
    "from transformers.tokenization_utils_base import BatchEncoding"
   ]
  },
  {
   "cell_type": "code",
   "execution_count": 2,
   "id": "9a448549",
   "metadata": {},
   "outputs": [],
   "source": [
    "## Amostra do conjunto\n",
    "\n",
    "df = pd.read_csv(\"data/medquad.csv\")\n",
    "df_amostra = df.sample(5000)"
   ]
  },
  {
   "cell_type": "code",
   "execution_count": 3,
   "id": "3694925b",
   "metadata": {},
   "outputs": [],
   "source": [
    "# Modelo para a língua inglesa\n",
    "\n",
    "nome_modelo = \"bert-base-uncased\"\n",
    "tokenizer = AutoTokenizer.from_pretrained(nome_modelo)\n",
    "model = AutoModel.from_pretrained(nome_modelo)"
   ]
  },
  {
   "cell_type": "code",
   "execution_count": 4,
   "id": "e79cb1e9",
   "metadata": {},
   "outputs": [],
   "source": [
    "## Funções para: 1) Obter os tokens; 2) Obter os embeddings\n",
    "\n",
    "def get_tokens(pergunta: str) -> str:\n",
    "    return tokenizer(pergunta, return_tensors=\"pt\")\n",
    "\n",
    "def get_vetores(tokens_pergunta: BatchEncoding) -> Tensor:\n",
    "\n",
    "    with torch.no_grad():\n",
    "        outputs = model(**tokens_pergunta)\n",
    "        embeddings = outputs.last_hidden_state\n",
    "\n",
    "    return embeddings"
   ]
  },
  {
   "cell_type": "code",
   "execution_count": null,
   "id": "3b1e1ace",
   "metadata": {},
   "outputs": [],
   "source": [
    "## Novas colunas para os tokens e para os embeddings\n",
    "\n",
    "df_amostra['tokens'] = df_amostra['question'].apply(lambda x: get_tokens(x))\n",
    "df_amostra['vetores'] = df_amostra['tokens'].apply(lambda x: get_vetores(x))"
   ]
  },
  {
   "cell_type": "code",
   "execution_count": null,
   "id": "634ee53c",
   "metadata": {},
   "outputs": [],
   "source": [
    "# Função para buscar a resposta mais parecida com a pergunta do usuário\n",
    "\n",
    "def buscar_resposta(pergunta_usuario, df):\n",
    "    # Gera tokens e vetor para a pergunta do usuário\n",
    "    tokens_usuario = get_tokens(pergunta_usuario)\n",
    "    vetor_usuario = get_vetores(tokens_usuario).mean(dim=1).squeeze()  # vetor médio\n",
    "\n",
    "    # Calcula a similaridade de cosseno com todas as perguntas do dataset\n",
    "    vetores_dataset = df['vetores'].apply(lambda x: x.mean(dim=1).squeeze())\n",
    "    similaridades = vetores_dataset.apply(lambda v: F.cosine_similarity(vetor_usuario, v, dim=0))\n",
    "\n",
    "    # Encontra o índice da pergunta mais parecida\n",
    "    idx_mais_similar = similaridades.idxmax()\n",
    "    pergunta_mais_similar = df.loc[idx_mais_similar, 'question']\n",
    "    resposta = df.loc[idx_mais_similar, 'answer']\n",
    "\n",
    "    return pergunta_mais_similar, resposta\n",
    "\n",
    "print(\"Sistema de busca semântica implementado com sucesso!\")\n",
    "print(\"Execute a célula seguinte para testar com diferentes perguntas.\")"
   ]
  },
  {
   "cell_type": "code",
   "execution_count": null,
   "id": "fa9f7ade",
   "metadata": {},
   "outputs": [],
   "source": [
    "# Teste com uma pergunta de exemplo\n",
    "# Mude a pergunta abaixo para testar outras perguntas\n",
    "\n",
    "pergunta_teste = \"What is diabetes?\"\n",
    "\n",
    "pergunta_similar, resposta = buscar_resposta(pergunta_teste, df_amostra)\n",
    "\n",
    "print(f\"Sua pergunta: {pergunta_teste}\")\n",
    "print(f\"Pergunta mais similar encontrada: {pergunta_similar}\")\n",
    "print(f\"Resposta: {resposta}\")"
   ]
  }
 ],
 "metadata": {
  "kernelspec": {
   "display_name": "Python 3",
   "language": "python",
   "name": "python3"
  },
  "language_info": {
   "codemirror_mode": {
    "name": "ipython",
    "version": 3
   },
   "file_extension": ".py",
   "mimetype": "text/x-python",
   "name": "python",
   "nbconvert_exporter": "python",
   "pygments_lexer": "ipython3",
   "version": "3.12.1"
  }
 },
 "nbformat": 4,
 "nbformat_minor": 5
}
